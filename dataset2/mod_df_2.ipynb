{
 "cells": [
  {
   "cell_type": "markdown",
   "id": "54fbd973-0f96-4e83-8627-13375ba75ffd",
   "metadata": {},
   "source": [
    "# Preparing the dataset2 for training (OHE and standardizarion)"
   ]
  },
  {
   "cell_type": "markdown",
   "id": "8e02d680-0640-48b0-a0a3-469bd1f3d491",
   "metadata": {},
   "source": [
    "## Import libraries and create the needed functions"
   ]
  },
  {
   "cell_type": "code",
   "execution_count": 1,
   "id": "aa233cac-63ce-499c-8626-c5436ae9f627",
   "metadata": {},
   "outputs": [],
   "source": [
    "import os\n",
    "import pandas as pd\n",
    "import numpy as np\n",
    "from sklearn.preprocessing import OneHotEncoder, StandardScaler\n",
    "from sklearn.pipeline import Pipeline\n",
    "from sklearn.compose import ColumnTransformer"
   ]
  },
  {
   "cell_type": "code",
   "execution_count": 2,
   "id": "fbb1c832-cd79-4cbb-b637-90fc07ebd1ce",
   "metadata": {},
   "outputs": [],
   "source": [
    "def ohe_and_standized(df):\n",
    "    # Separate numerical and categorical features\n",
    "    numerical_features = df.select_dtypes(include=['int', 'float']).columns.tolist()\n",
    "    categorical_features = df.select_dtypes(include=['object']).columns.tolist()\n",
    "    \n",
    "    # Create transformers for preprocessing\n",
    "    numerical_transformer = Pipeline([('scaler', StandardScaler())])\n",
    "    categorical_transformer = Pipeline([('onehot', OneHotEncoder(sparse_output=False))])  # Set sparse=False to get dense array\n",
    "    \n",
    "    # Combine transformers into a preprocessor\n",
    "    preprocessor = ColumnTransformer(\n",
    "        transformers=[\n",
    "            ('num', numerical_transformer, numerical_features),\n",
    "            ('cat', categorical_transformer, categorical_features)\n",
    "        ],\n",
    "        remainder='passthrough'  # Preserve the remaining features\n",
    "    )\n",
    "        \n",
    "    # Create a pipeline to apply preprocessing\n",
    "    pipeline = Pipeline([('preprocessor', preprocessor)])\n",
    "    transformed_data = pipeline.fit_transform(df)\n",
    "    \n",
    "    # Get feature names after preprocessing\n",
    "    feature_names = []\n",
    "    feature_names.extend(numerical_features)\n",
    "    \n",
    "    # Add one-hot encoded categorical feature names\n",
    "    if 'cat' in preprocessor.named_transformers_ and categorical_features:\n",
    "        one_hot_encoder = preprocessor.named_transformers_['cat'].named_steps['onehot']\n",
    "        categorical_feature_names = one_hot_encoder.get_feature_names_out(input_features=categorical_features)\n",
    "        feature_names.extend(categorical_feature_names)\n",
    "    \n",
    "    # Add any other remaining columns (e.g., columns you didn't process)\n",
    "    remaining_cols = [col for col in df.columns if col not in numerical_features + categorical_features]\n",
    "    feature_names.extend(remaining_cols)\n",
    "    \n",
    "    # Convert the transformed data back to a DataFrame for visualization\n",
    "    transformed_df = pd.DataFrame(transformed_data, columns=feature_names)\n",
    "    \n",
    "    # set the indexes as the original dataset\n",
    "    transformed_df = transformed_df.set_index(df.index)\n",
    "    \n",
    "    return transformed_df"
   ]
  },
  {
   "cell_type": "code",
   "execution_count": 3,
   "id": "63d4f782-a2fb-41bc-a400-7f0ece3d622b",
   "metadata": {},
   "outputs": [],
   "source": [
    "df = pd.read_csv('./dataset2.csv')\n",
    "#df.info()"
   ]
  },
  {
   "cell_type": "markdown",
   "id": "dbf5793e-b786-48c7-9f17-33736a837292",
   "metadata": {},
   "source": [
    "### Scroling trow the data I say that the featues 'lsoa11nm' and 'lsoa11nmw' so lets check if it is true."
   ]
  },
  {
   "cell_type": "code",
   "execution_count": 4,
   "id": "85a19bb0-31b7-45df-a1f1-dbe9356f16cd",
   "metadata": {},
   "outputs": [
    {
     "name": "stdout",
     "output_type": "stream",
     "text": [
      "lsoa11nm and lsoa11nmw have the same values in all instances.\n"
     ]
    }
   ],
   "source": [
    "are_different = (df['lsoa11nm'] != df['lsoa11nmw']).any()\n",
    "\n",
    "# Print the result\n",
    "if are_different:\n",
    "    print(\"lsoa11nm and lsoa11nmw have different values in some instances.\")\n",
    "else:\n",
    "    print(\"lsoa11nm and lsoa11nmw have the same values in all instances.\")"
   ]
  },
  {
   "cell_type": "markdown",
   "id": "6d4b7adc-d942-471e-b5de-085a57628986",
   "metadata": {},
   "source": [
    "### Lets check how many different values these features have."
   ]
  },
  {
   "cell_type": "code",
   "execution_count": 5,
   "id": "9e4678c9-0ee1-43e6-b54c-922ba2c0cab9",
   "metadata": {},
   "outputs": [
    {
     "name": "stdout",
     "output_type": "stream",
     "text": [
      "190\n",
      "190\n",
      "190\n"
     ]
    }
   ],
   "source": [
    "print(df['lsoa11nm'].nunique())\n",
    "print(df['ogc_fid'].nunique())\n",
    "print(df['lsoa11cd'].nunique())"
   ]
  },
  {
   "cell_type": "markdown",
   "id": "6793190d-530e-462a-aef2-a3578fb5024d",
   "metadata": {},
   "source": [
    "### 'ogc_fid', 'lsoa11cd', 'lsoa11nm', 'lsoa11nmw'  have different value for every instances( 190 different values) so it doesn’t give us any more info than a basic indexer."
   ]
  },
  {
   "cell_type": "code",
   "execution_count": 6,
   "id": "7ee7ccc5-082f-4fa2-85a6-38b01ccc2000",
   "metadata": {},
   "outputs": [
    {
     "data": {
      "text/html": [
       "<div>\n",
       "<style scoped>\n",
       "    .dataframe tbody tr th:only-of-type {\n",
       "        vertical-align: middle;\n",
       "    }\n",
       "\n",
       "    .dataframe tbody tr th {\n",
       "        vertical-align: top;\n",
       "    }\n",
       "\n",
       "    .dataframe thead th {\n",
       "        text-align: right;\n",
       "    }\n",
       "</style>\n",
       "<table border=\"1\" class=\"dataframe\">\n",
       "  <thead>\n",
       "    <tr style=\"text-align: right;\">\n",
       "      <th></th>\n",
       "      <th>GPRegPop</th>\n",
       "      <th>Hypertens</th>\n",
       "      <th>Anxiety</th>\n",
       "      <th>Depression</th>\n",
       "      <th>Asthma</th>\n",
       "      <th>Obesity</th>\n",
       "      <th>Diabetes</th>\n",
       "      <th>CHD</th>\n",
       "      <th>Fall</th>\n",
       "      <th>Cancer</th>\n",
       "      <th>CKD</th>\n",
       "      <th>COPD</th>\n",
       "      <th>Stroke_TIA</th>\n",
       "      <th>AF</th>\n",
       "    </tr>\n",
       "  </thead>\n",
       "  <tbody>\n",
       "    <tr>\n",
       "      <th>0</th>\n",
       "      <td>1495</td>\n",
       "      <td>165</td>\n",
       "      <td>163</td>\n",
       "      <td>175</td>\n",
       "      <td>110</td>\n",
       "      <td>102</td>\n",
       "      <td>63</td>\n",
       "      <td>47</td>\n",
       "      <td>51</td>\n",
       "      <td>25</td>\n",
       "      <td>17</td>\n",
       "      <td>36</td>\n",
       "      <td>33</td>\n",
       "      <td>19</td>\n",
       "    </tr>\n",
       "    <tr>\n",
       "      <th>1</th>\n",
       "      <td>1457</td>\n",
       "      <td>203</td>\n",
       "      <td>191</td>\n",
       "      <td>173</td>\n",
       "      <td>92</td>\n",
       "      <td>90</td>\n",
       "      <td>62</td>\n",
       "      <td>58</td>\n",
       "      <td>80</td>\n",
       "      <td>38</td>\n",
       "      <td>35</td>\n",
       "      <td>35</td>\n",
       "      <td>33</td>\n",
       "      <td>29</td>\n",
       "    </tr>\n",
       "    <tr>\n",
       "      <th>2</th>\n",
       "      <td>1343</td>\n",
       "      <td>190</td>\n",
       "      <td>191</td>\n",
       "      <td>171</td>\n",
       "      <td>104</td>\n",
       "      <td>96</td>\n",
       "      <td>68</td>\n",
       "      <td>53</td>\n",
       "      <td>50</td>\n",
       "      <td>25</td>\n",
       "      <td>24</td>\n",
       "      <td>29</td>\n",
       "      <td>23</td>\n",
       "      <td>21</td>\n",
       "    </tr>\n",
       "    <tr>\n",
       "      <th>3</th>\n",
       "      <td>1391</td>\n",
       "      <td>269</td>\n",
       "      <td>131</td>\n",
       "      <td>100</td>\n",
       "      <td>102</td>\n",
       "      <td>125</td>\n",
       "      <td>54</td>\n",
       "      <td>51</td>\n",
       "      <td>33</td>\n",
       "      <td>43</td>\n",
       "      <td>39</td>\n",
       "      <td>31</td>\n",
       "      <td>23</td>\n",
       "      <td>18</td>\n",
       "    </tr>\n",
       "    <tr>\n",
       "      <th>4</th>\n",
       "      <td>1459</td>\n",
       "      <td>265</td>\n",
       "      <td>161</td>\n",
       "      <td>133</td>\n",
       "      <td>92</td>\n",
       "      <td>124</td>\n",
       "      <td>96</td>\n",
       "      <td>87</td>\n",
       "      <td>85</td>\n",
       "      <td>41</td>\n",
       "      <td>58</td>\n",
       "      <td>50</td>\n",
       "      <td>51</td>\n",
       "      <td>38</td>\n",
       "    </tr>\n",
       "  </tbody>\n",
       "</table>\n",
       "</div>"
      ],
      "text/plain": [
       "   GPRegPop  Hypertens  Anxiety  Depression  Asthma  Obesity  Diabetes  CHD  \\\n",
       "0      1495        165      163         175     110      102        63   47   \n",
       "1      1457        203      191         173      92       90        62   58   \n",
       "2      1343        190      191         171     104       96        68   53   \n",
       "3      1391        269      131         100     102      125        54   51   \n",
       "4      1459        265      161         133      92      124        96   87   \n",
       "\n",
       "   Fall  Cancer  CKD  COPD  Stroke_TIA  AF  \n",
       "0    51      25   17    36          33  19  \n",
       "1    80      38   35    35          33  29  \n",
       "2    50      25   24    29          23  21  \n",
       "3    33      43   39    31          23  18  \n",
       "4    85      41   58    50          51  38  "
      ]
     },
     "execution_count": 6,
     "metadata": {},
     "output_type": "execute_result"
    }
   ],
   "source": [
    "df = df.drop([\"ogc_fid\",\"lsoa11cd\",\"lsoa11nm\",\"lsoa11nmw\"],axis = 1)\n",
    "df.head()"
   ]
  },
  {
   "cell_type": "code",
   "execution_count": 18,
   "id": "adc9e277-0189-412d-9fb7-4eb802327c29",
   "metadata": {},
   "outputs": [
    {
     "data": {
      "text/html": [
       "<div>\n",
       "<style scoped>\n",
       "    .dataframe tbody tr th:only-of-type {\n",
       "        vertical-align: middle;\n",
       "    }\n",
       "\n",
       "    .dataframe tbody tr th {\n",
       "        vertical-align: top;\n",
       "    }\n",
       "\n",
       "    .dataframe thead th {\n",
       "        text-align: right;\n",
       "    }\n",
       "</style>\n",
       "<table border=\"1\" class=\"dataframe\">\n",
       "  <thead>\n",
       "    <tr style=\"text-align: right;\">\n",
       "      <th></th>\n",
       "      <th>GPRegPop</th>\n",
       "      <th>Hypertens</th>\n",
       "      <th>Anxiety</th>\n",
       "      <th>Depression</th>\n",
       "      <th>Asthma</th>\n",
       "      <th>Obesity</th>\n",
       "      <th>Diabetes</th>\n",
       "      <th>CHD</th>\n",
       "      <th>Fall</th>\n",
       "      <th>Cancer</th>\n",
       "      <th>CKD</th>\n",
       "      <th>COPD</th>\n",
       "      <th>Stroke_TIA</th>\n",
       "      <th>AF</th>\n",
       "    </tr>\n",
       "  </thead>\n",
       "  <tbody>\n",
       "    <tr>\n",
       "      <th>0</th>\n",
       "      <td>-0.238206</td>\n",
       "      <td>-1.442131</td>\n",
       "      <td>0.217429</td>\n",
       "      <td>0.456886</td>\n",
       "      <td>0.306791</td>\n",
       "      <td>0.051091</td>\n",
       "      <td>-0.771539</td>\n",
       "      <td>-0.843554</td>\n",
       "      <td>-0.386809</td>\n",
       "      <td>-1.443102</td>\n",
       "      <td>-1.740483</td>\n",
       "      <td>-0.008236</td>\n",
       "      <td>0.056659</td>\n",
       "      <td>-1.128662</td>\n",
       "    </tr>\n",
       "    <tr>\n",
       "      <th>1</th>\n",
       "      <td>-0.452517</td>\n",
       "      <td>-0.518492</td>\n",
       "      <td>0.718173</td>\n",
       "      <td>0.425053</td>\n",
       "      <td>-0.486275</td>\n",
       "      <td>-0.271591</td>\n",
       "      <td>-0.821282</td>\n",
       "      <td>-0.212549</td>\n",
       "      <td>0.693433</td>\n",
       "      <td>-0.402687</td>\n",
       "      <td>-0.284404</td>\n",
       "      <td>-0.057136</td>\n",
       "      <td>0.056659</td>\n",
       "      <td>-0.208689</td>\n",
       "    </tr>\n",
       "    <tr>\n",
       "      <th>2</th>\n",
       "      <td>-1.095451</td>\n",
       "      <td>-0.834473</td>\n",
       "      <td>0.718173</td>\n",
       "      <td>0.393220</td>\n",
       "      <td>0.042436</td>\n",
       "      <td>-0.110250</td>\n",
       "      <td>-0.522825</td>\n",
       "      <td>-0.499370</td>\n",
       "      <td>-0.424058</td>\n",
       "      <td>-1.443102</td>\n",
       "      <td>-1.174230</td>\n",
       "      <td>-0.350538</td>\n",
       "      <td>-0.784368</td>\n",
       "      <td>-0.944667</td>\n",
       "    </tr>\n",
       "    <tr>\n",
       "      <th>3</th>\n",
       "      <td>-0.824742</td>\n",
       "      <td>1.085724</td>\n",
       "      <td>-0.354851</td>\n",
       "      <td>-0.736848</td>\n",
       "      <td>-0.045682</td>\n",
       "      <td>0.669567</td>\n",
       "      <td>-1.219226</td>\n",
       "      <td>-0.614098</td>\n",
       "      <td>-1.057303</td>\n",
       "      <td>-0.002527</td>\n",
       "      <td>0.039169</td>\n",
       "      <td>-0.252737</td>\n",
       "      <td>-0.784368</td>\n",
       "      <td>-1.220660</td>\n",
       "    </tr>\n",
       "    <tr>\n",
       "      <th>4</th>\n",
       "      <td>-0.441238</td>\n",
       "      <td>0.988499</td>\n",
       "      <td>0.181661</td>\n",
       "      <td>-0.211605</td>\n",
       "      <td>-0.486275</td>\n",
       "      <td>0.642677</td>\n",
       "      <td>0.869978</td>\n",
       "      <td>1.451010</td>\n",
       "      <td>0.879681</td>\n",
       "      <td>-0.162591</td>\n",
       "      <td>1.576142</td>\n",
       "      <td>0.676369</td>\n",
       "      <td>1.570506</td>\n",
       "      <td>0.619287</td>\n",
       "    </tr>\n",
       "  </tbody>\n",
       "</table>\n",
       "</div>"
      ],
      "text/plain": [
       "   GPRegPop  Hypertens   Anxiety  Depression    Asthma   Obesity  Diabetes  \\\n",
       "0 -0.238206  -1.442131  0.217429    0.456886  0.306791  0.051091 -0.771539   \n",
       "1 -0.452517  -0.518492  0.718173    0.425053 -0.486275 -0.271591 -0.821282   \n",
       "2 -1.095451  -0.834473  0.718173    0.393220  0.042436 -0.110250 -0.522825   \n",
       "3 -0.824742   1.085724 -0.354851   -0.736848 -0.045682  0.669567 -1.219226   \n",
       "4 -0.441238   0.988499  0.181661   -0.211605 -0.486275  0.642677  0.869978   \n",
       "\n",
       "        CHD      Fall    Cancer       CKD      COPD  Stroke_TIA        AF  \n",
       "0 -0.843554 -0.386809 -1.443102 -1.740483 -0.008236    0.056659 -1.128662  \n",
       "1 -0.212549  0.693433 -0.402687 -0.284404 -0.057136    0.056659 -0.208689  \n",
       "2 -0.499370 -0.424058 -1.443102 -1.174230 -0.350538   -0.784368 -0.944667  \n",
       "3 -0.614098 -1.057303 -0.002527  0.039169 -0.252737   -0.784368 -1.220660  \n",
       "4  1.451010  0.879681 -0.162591  1.576142  0.676369    1.570506  0.619287  "
      ]
     },
     "execution_count": 18,
     "metadata": {},
     "output_type": "execute_result"
    }
   ],
   "source": [
    "df = ohe_and_standized(df)\n",
    "df.head()"
   ]
  },
  {
   "cell_type": "code",
   "execution_count": 7,
   "id": "569ca6c7-7830-4530-9288-64152ab0a7af",
   "metadata": {},
   "outputs": [],
   "source": [
    "df.rename(columns={'Stroke_TIA': 'Target'}, inplace=True)"
   ]
  },
  {
   "cell_type": "markdown",
   "id": "422add54-aa51-4e8e-813d-095c437af2cd",
   "metadata": {},
   "source": [
    "## create a CSV file again from the procesed data"
   ]
  },
  {
   "cell_type": "code",
   "execution_count": 9,
   "id": "6a221da6-73e6-4586-86cb-8bb8e5bf7b21",
   "metadata": {},
   "outputs": [],
   "source": [
    "df.to_csv('procesed_dataset_2.csv', index=False)"
   ]
  },
  {
   "cell_type": "code",
   "execution_count": null,
   "id": "2f158a9e-2157-4dc9-85b1-cfb612dbb2f1",
   "metadata": {},
   "outputs": [],
   "source": []
  }
 ],
 "metadata": {
  "kernelspec": {
   "display_name": "Python 3 (ipykernel)",
   "language": "python",
   "name": "python3"
  },
  "language_info": {
   "codemirror_mode": {
    "name": "ipython",
    "version": 3
   },
   "file_extension": ".py",
   "mimetype": "text/x-python",
   "name": "python",
   "nbconvert_exporter": "python",
   "pygments_lexer": "ipython3",
   "version": "3.8.17"
  },
  "widgets": {
   "application/vnd.jupyter.widget-state+json": {
    "state": {},
    "version_major": 2,
    "version_minor": 0
   }
  }
 },
 "nbformat": 4,
 "nbformat_minor": 5
}
