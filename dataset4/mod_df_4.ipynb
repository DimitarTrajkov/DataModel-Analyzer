{
 "cells": [
  {
   "cell_type": "markdown",
   "id": "54fbd973-0f96-4e83-8627-13375ba75ffd",
   "metadata": {},
   "source": [
    "# Preparing the dataset4 for training (OHE and standardizarion)"
   ]
  },
  {
   "cell_type": "markdown",
   "id": "8e02d680-0640-48b0-a0a3-469bd1f3d491",
   "metadata": {},
   "source": [
    "## Import libraries and create the needed functions"
   ]
  },
  {
   "cell_type": "code",
   "execution_count": 1,
   "id": "aa233cac-63ce-499c-8626-c5436ae9f627",
   "metadata": {},
   "outputs": [],
   "source": [
    "import os\n",
    "import pandas as pd\n",
    "import numpy as np\n",
    "from sklearn.preprocessing import OneHotEncoder, StandardScaler\n",
    "from sklearn.pipeline import Pipeline\n",
    "from sklearn.compose import ColumnTransformer"
   ]
  },
  {
   "cell_type": "code",
   "execution_count": 2,
   "id": "fbb1c832-cd79-4cbb-b637-90fc07ebd1ce",
   "metadata": {},
   "outputs": [],
   "source": [
    "def ohe_and_standized(df):\n",
    "    # Separate numerical and categorical features\n",
    "    numerical_features = df.select_dtypes(include=['int', 'float']).columns.tolist()\n",
    "    categorical_features = df.select_dtypes(include=['object']).columns.tolist()\n",
    "    \n",
    "    # Create transformers for preprocessing\n",
    "    numerical_transformer = Pipeline([('scaler', StandardScaler())])\n",
    "    categorical_transformer = Pipeline([('onehot', OneHotEncoder(sparse_output=False))])  # Set sparse=False to get dense array\n",
    "    \n",
    "    # Combine transformers into a preprocessor\n",
    "    preprocessor = ColumnTransformer(\n",
    "        transformers=[\n",
    "            ('num', numerical_transformer, numerical_features),\n",
    "            ('cat', categorical_transformer, categorical_features)\n",
    "        ],\n",
    "        remainder='passthrough'  # Preserve the remaining features\n",
    "    )\n",
    "        \n",
    "    # Create a pipeline to apply preprocessing\n",
    "    pipeline = Pipeline([('preprocessor', preprocessor)])\n",
    "    transformed_data = pipeline.fit_transform(df)\n",
    "    \n",
    "    # Get feature names after preprocessing\n",
    "    feature_names = []\n",
    "    feature_names.extend(numerical_features)\n",
    "    \n",
    "    # Add one-hot encoded categorical feature names\n",
    "    if 'cat' in preprocessor.named_transformers_ and categorical_features:\n",
    "        one_hot_encoder = preprocessor.named_transformers_['cat'].named_steps['onehot']\n",
    "        categorical_feature_names = one_hot_encoder.get_feature_names_out(input_features=categorical_features)\n",
    "        feature_names.extend(categorical_feature_names)\n",
    "    \n",
    "    # Add any other remaining columns (e.g., columns you didn't process)\n",
    "    remaining_cols = [col for col in df.columns if col not in numerical_features + categorical_features]\n",
    "    feature_names.extend(remaining_cols)\n",
    "    \n",
    "    # Convert the transformed data back to a DataFrame for visualization\n",
    "    transformed_df = pd.DataFrame(transformed_data, columns=feature_names)\n",
    "    \n",
    "    # set the indexes as the original dataset\n",
    "    transformed_df = transformed_df.set_index(df.index)\n",
    "    \n",
    "    return transformed_df"
   ]
  },
  {
   "cell_type": "code",
   "execution_count": 3,
   "id": "63d4f782-a2fb-41bc-a400-7f0ece3d622b",
   "metadata": {},
   "outputs": [
    {
     "name": "stdout",
     "output_type": "stream",
     "text": [
      "<class 'pandas.core.frame.DataFrame'>\n",
      "RangeIndex: 205920 entries, 0 to 205919\n",
      "Data columns (total 13 columns):\n",
      " #   Column                             Non-Null Count   Dtype  \n",
      "---  ------                             --------------   -----  \n",
      " 0   Year                               205920 non-null  int64  \n",
      " 1   Cause of Death                     205920 non-null  object \n",
      " 2   State                              205920 non-null  object \n",
      " 3   State FIPS Code                    205920 non-null  object \n",
      " 4   HHS Region                         205920 non-null  int64  \n",
      " 5   Age Range                          205920 non-null  object \n",
      " 6   Benchmark                          205920 non-null  object \n",
      " 7   Locality                           205920 non-null  object \n",
      " 8   Observed Deaths                    195708 non-null  float64\n",
      " 9   Population                         200640 non-null  float64\n",
      " 10  Expected Deaths                    195708 non-null  float64\n",
      " 11  Potentially Excess Deaths          195708 non-null  float64\n",
      " 12  Percent Potentially Excess Deaths  195708 non-null  float64\n",
      "dtypes: float64(5), int64(2), object(6)\n",
      "memory usage: 20.4+ MB\n"
     ]
    }
   ],
   "source": [
    "df = pd.read_csv('./dataset4.csv')\n",
    "df.info()"
   ]
  },
  {
   "cell_type": "markdown",
   "id": "dbf5793e-b786-48c7-9f17-33736a837292",
   "metadata": {},
   "source": [
    "### From the 200920 instances only 195708 have actual data the rest have dummy data like year,State but the number of deaths is missing so that data is unnecessary."
   ]
  },
  {
   "cell_type": "code",
   "execution_count": 4,
   "id": "85a19bb0-31b7-45df-a1f1-dbe9356f16cd",
   "metadata": {},
   "outputs": [
    {
     "name": "stdout",
     "output_type": "stream",
     "text": [
      "<class 'pandas.core.frame.DataFrame'>\n",
      "Index: 195708 entries, 0 to 205919\n",
      "Data columns (total 13 columns):\n",
      " #   Column                             Non-Null Count   Dtype  \n",
      "---  ------                             --------------   -----  \n",
      " 0   Year                               195708 non-null  int64  \n",
      " 1   Cause of Death                     195708 non-null  object \n",
      " 2   State                              195708 non-null  object \n",
      " 3   State FIPS Code                    195708 non-null  object \n",
      " 4   HHS Region                         195708 non-null  int64  \n",
      " 5   Age Range                          195708 non-null  object \n",
      " 6   Benchmark                          195708 non-null  object \n",
      " 7   Locality                           195708 non-null  object \n",
      " 8   Observed Deaths                    195708 non-null  float64\n",
      " 9   Population                         195708 non-null  float64\n",
      " 10  Expected Deaths                    195708 non-null  float64\n",
      " 11  Potentially Excess Deaths          195708 non-null  float64\n",
      " 12  Percent Potentially Excess Deaths  195708 non-null  float64\n",
      "dtypes: float64(5), int64(2), object(6)\n",
      "memory usage: 20.9+ MB\n"
     ]
    }
   ],
   "source": [
    "df_without_nulls = df.dropna()\n",
    "df_without_nulls.info()"
   ]
  },
  {
   "cell_type": "markdown",
   "id": "6d4b7adc-d942-471e-b5de-085a57628986",
   "metadata": {},
   "source": [
    "### We are only interested in the data for Stroke so we will remove the rest of the data."
   ]
  },
  {
   "cell_type": "code",
   "execution_count": 5,
   "id": "9e4678c9-0ee1-43e6-b54c-922ba2c0cab9",
   "metadata": {},
   "outputs": [],
   "source": [
    "df_tidy = df_without_nulls[df_without_nulls['Cause of Death'] == 'Stroke']"
   ]
  },
  {
   "cell_type": "code",
   "execution_count": 6,
   "id": "0f81c44d-bbae-42d9-bcc3-6d242754d2f8",
   "metadata": {},
   "outputs": [
    {
     "name": "stdout",
     "output_type": "stream",
     "text": [
      "how many instances are not in the 0.1% of the Observed:\n",
      "3\n"
     ]
    }
   ],
   "source": [
    "count = 0\n",
    "for index, row in df_tidy.iterrows():\n",
    "    if row['Observed Deaths'] - row['Potentially Excess Deaths'] - row['Expected Deaths']< row['Observed Deaths']/1000:\n",
    "        count += 1\n",
    "\n",
    "print(\"how many instances are not in the 0.1% of the Observed:\")\n",
    "print(df_tidy.shape[0]- count)"
   ]
  },
  {
   "cell_type": "markdown",
   "id": "6793190d-530e-462a-aef2-a3578fb5024d",
   "metadata": {},
   "source": [
    "##### Because we removed the other causes of death we dont need that feature.\n",
    "##### Also the feature 'State FIPS Code' does give us any new information that 'State' didn't jet provided so we will remove this feature too.\n",
    "##### 'Percent Potentially Excess Deaths' is just 'Potentially Excess Deaths'/'Observed Deaths' so we don't need it either.\n",
    "##### 'Potentially Excess Deaths' are 'Observed Deaths' - 'Expected Deaths' so we will remove it too."
   ]
  },
  {
   "cell_type": "code",
   "execution_count": 7,
   "id": "7ee7ccc5-082f-4fa2-85a6-38b01ccc2000",
   "metadata": {},
   "outputs": [
    {
     "name": "stdout",
     "output_type": "stream",
     "text": [
      "<class 'pandas.core.frame.DataFrame'>\n",
      "Index: 37971 entries, 3871 to 202175\n",
      "Data columns (total 9 columns):\n",
      " #   Column           Non-Null Count  Dtype  \n",
      "---  ------           --------------  -----  \n",
      " 0   Year             37971 non-null  int64  \n",
      " 1   State            37971 non-null  object \n",
      " 2   HHS Region       37971 non-null  int64  \n",
      " 3   Age Range        37971 non-null  object \n",
      " 4   Benchmark        37971 non-null  object \n",
      " 5   Locality         37971 non-null  object \n",
      " 6   Observed Deaths  37971 non-null  float64\n",
      " 7   Population       37971 non-null  float64\n",
      " 8   Expected Deaths  37971 non-null  float64\n",
      "dtypes: float64(3), int64(2), object(4)\n",
      "memory usage: 2.9+ MB\n"
     ]
    }
   ],
   "source": [
    "df_tidy = df_tidy.drop([\"Percent Potentially Excess Deaths\",\"Cause of Death\",\"State FIPS Code\", \"Potentially Excess Deaths\"],axis = 1)\n",
    "df_tidy.info()"
   ]
  },
  {
   "cell_type": "code",
   "execution_count": 8,
   "id": "adc9e277-0189-412d-9fb7-4eb802327c29",
   "metadata": {},
   "outputs": [
    {
     "data": {
      "text/html": [
       "<div>\n",
       "<style scoped>\n",
       "    .dataframe tbody tr th:only-of-type {\n",
       "        vertical-align: middle;\n",
       "    }\n",
       "\n",
       "    .dataframe tbody tr th {\n",
       "        vertical-align: top;\n",
       "    }\n",
       "\n",
       "    .dataframe thead th {\n",
       "        text-align: right;\n",
       "    }\n",
       "</style>\n",
       "<table border=\"1\" class=\"dataframe\">\n",
       "  <thead>\n",
       "    <tr style=\"text-align: right;\">\n",
       "      <th></th>\n",
       "      <th>Year</th>\n",
       "      <th>HHS Region</th>\n",
       "      <th>Observed Deaths</th>\n",
       "      <th>Population</th>\n",
       "      <th>Expected Deaths</th>\n",
       "      <th>State_Alabama</th>\n",
       "      <th>State_Alaska</th>\n",
       "      <th>State_Arizona</th>\n",
       "      <th>State_Arkansas</th>\n",
       "      <th>State_California</th>\n",
       "      <th>...</th>\n",
       "      <th>Age Range_0-69</th>\n",
       "      <th>Age Range_0-74</th>\n",
       "      <th>Age Range_0-79</th>\n",
       "      <th>Age Range_0-84</th>\n",
       "      <th>Benchmark_2005 Fixed</th>\n",
       "      <th>Benchmark_2010 Fixed</th>\n",
       "      <th>Benchmark_Floating</th>\n",
       "      <th>Locality_All</th>\n",
       "      <th>Locality_Metropolitan</th>\n",
       "      <th>Locality_Nonmetropolitan</th>\n",
       "    </tr>\n",
       "  </thead>\n",
       "  <tbody>\n",
       "    <tr>\n",
       "      <th>3871</th>\n",
       "      <td>-1.579099</td>\n",
       "      <td>1.351281</td>\n",
       "      <td>1.250827</td>\n",
       "      <td>0.930826</td>\n",
       "      <td>1.220230</td>\n",
       "      <td>0.0</td>\n",
       "      <td>0.0</td>\n",
       "      <td>0.0</td>\n",
       "      <td>0.0</td>\n",
       "      <td>1.0</td>\n",
       "      <td>...</td>\n",
       "      <td>0.0</td>\n",
       "      <td>0.0</td>\n",
       "      <td>1.0</td>\n",
       "      <td>0.0</td>\n",
       "      <td>1.0</td>\n",
       "      <td>0.0</td>\n",
       "      <td>0.0</td>\n",
       "      <td>1.0</td>\n",
       "      <td>0.0</td>\n",
       "      <td>0.0</td>\n",
       "    </tr>\n",
       "    <tr>\n",
       "      <th>4216</th>\n",
       "      <td>-1.579099</td>\n",
       "      <td>-0.476644</td>\n",
       "      <td>0.695579</td>\n",
       "      <td>0.327557</td>\n",
       "      <td>0.820406</td>\n",
       "      <td>0.0</td>\n",
       "      <td>0.0</td>\n",
       "      <td>0.0</td>\n",
       "      <td>0.0</td>\n",
       "      <td>0.0</td>\n",
       "      <td>...</td>\n",
       "      <td>0.0</td>\n",
       "      <td>0.0</td>\n",
       "      <td>1.0</td>\n",
       "      <td>0.0</td>\n",
       "      <td>0.0</td>\n",
       "      <td>0.0</td>\n",
       "      <td>1.0</td>\n",
       "      <td>1.0</td>\n",
       "      <td>0.0</td>\n",
       "      <td>0.0</td>\n",
       "    </tr>\n",
       "    <tr>\n",
       "      <th>4856</th>\n",
       "      <td>-1.579099</td>\n",
       "      <td>-0.476644</td>\n",
       "      <td>0.412200</td>\n",
       "      <td>0.048934</td>\n",
       "      <td>0.281764</td>\n",
       "      <td>0.0</td>\n",
       "      <td>0.0</td>\n",
       "      <td>0.0</td>\n",
       "      <td>0.0</td>\n",
       "      <td>0.0</td>\n",
       "      <td>...</td>\n",
       "      <td>0.0</td>\n",
       "      <td>0.0</td>\n",
       "      <td>0.0</td>\n",
       "      <td>1.0</td>\n",
       "      <td>0.0</td>\n",
       "      <td>0.0</td>\n",
       "      <td>1.0</td>\n",
       "      <td>1.0</td>\n",
       "      <td>0.0</td>\n",
       "      <td>0.0</td>\n",
       "    </tr>\n",
       "    <tr>\n",
       "      <th>5345</th>\n",
       "      <td>-1.579099</td>\n",
       "      <td>-0.476644</td>\n",
       "      <td>0.273148</td>\n",
       "      <td>-0.098378</td>\n",
       "      <td>0.072688</td>\n",
       "      <td>1.0</td>\n",
       "      <td>0.0</td>\n",
       "      <td>0.0</td>\n",
       "      <td>0.0</td>\n",
       "      <td>0.0</td>\n",
       "      <td>...</td>\n",
       "      <td>0.0</td>\n",
       "      <td>0.0</td>\n",
       "      <td>0.0</td>\n",
       "      <td>1.0</td>\n",
       "      <td>0.0</td>\n",
       "      <td>1.0</td>\n",
       "      <td>0.0</td>\n",
       "      <td>1.0</td>\n",
       "      <td>0.0</td>\n",
       "      <td>0.0</td>\n",
       "    </tr>\n",
       "    <tr>\n",
       "      <th>5647</th>\n",
       "      <td>-1.579099</td>\n",
       "      <td>1.716865</td>\n",
       "      <td>-0.190518</td>\n",
       "      <td>-0.222832</td>\n",
       "      <td>-0.176778</td>\n",
       "      <td>0.0</td>\n",
       "      <td>0.0</td>\n",
       "      <td>0.0</td>\n",
       "      <td>0.0</td>\n",
       "      <td>0.0</td>\n",
       "      <td>...</td>\n",
       "      <td>1.0</td>\n",
       "      <td>0.0</td>\n",
       "      <td>0.0</td>\n",
       "      <td>0.0</td>\n",
       "      <td>0.0</td>\n",
       "      <td>0.0</td>\n",
       "      <td>1.0</td>\n",
       "      <td>0.0</td>\n",
       "      <td>1.0</td>\n",
       "      <td>0.0</td>\n",
       "    </tr>\n",
       "  </tbody>\n",
       "</table>\n",
       "<p>5 rows × 71 columns</p>\n",
       "</div>"
      ],
      "text/plain": [
       "          Year  HHS Region  Observed Deaths  Population  Expected Deaths  \\\n",
       "3871 -1.579099    1.351281         1.250827    0.930826         1.220230   \n",
       "4216 -1.579099   -0.476644         0.695579    0.327557         0.820406   \n",
       "4856 -1.579099   -0.476644         0.412200    0.048934         0.281764   \n",
       "5345 -1.579099   -0.476644         0.273148   -0.098378         0.072688   \n",
       "5647 -1.579099    1.716865        -0.190518   -0.222832        -0.176778   \n",
       "\n",
       "      State_Alabama  State_Alaska  State_Arizona  State_Arkansas  \\\n",
       "3871            0.0           0.0            0.0             0.0   \n",
       "4216            0.0           0.0            0.0             0.0   \n",
       "4856            0.0           0.0            0.0             0.0   \n",
       "5345            1.0           0.0            0.0             0.0   \n",
       "5647            0.0           0.0            0.0             0.0   \n",
       "\n",
       "      State_California  ...  Age Range_0-69  Age Range_0-74  Age Range_0-79  \\\n",
       "3871               1.0  ...             0.0             0.0             1.0   \n",
       "4216               0.0  ...             0.0             0.0             1.0   \n",
       "4856               0.0  ...             0.0             0.0             0.0   \n",
       "5345               0.0  ...             0.0             0.0             0.0   \n",
       "5647               0.0  ...             1.0             0.0             0.0   \n",
       "\n",
       "      Age Range_0-84  Benchmark_2005 Fixed  Benchmark_2010 Fixed  \\\n",
       "3871             0.0                   1.0                   0.0   \n",
       "4216             0.0                   0.0                   0.0   \n",
       "4856             1.0                   0.0                   0.0   \n",
       "5345             1.0                   0.0                   1.0   \n",
       "5647             0.0                   0.0                   0.0   \n",
       "\n",
       "      Benchmark_Floating  Locality_All  Locality_Metropolitan  \\\n",
       "3871                 0.0           1.0                    0.0   \n",
       "4216                 1.0           1.0                    0.0   \n",
       "4856                 1.0           1.0                    0.0   \n",
       "5345                 0.0           1.0                    0.0   \n",
       "5647                 1.0           0.0                    1.0   \n",
       "\n",
       "      Locality_Nonmetropolitan  \n",
       "3871                       0.0  \n",
       "4216                       0.0  \n",
       "4856                       0.0  \n",
       "5345                       0.0  \n",
       "5647                       0.0  \n",
       "\n",
       "[5 rows x 71 columns]"
      ]
     },
     "execution_count": 8,
     "metadata": {},
     "output_type": "execute_result"
    }
   ],
   "source": [
    "df_tidy = ohe_and_standized(df_tidy)\n",
    "df_tidy.head()"
   ]
  },
  {
   "cell_type": "code",
   "execution_count": 9,
   "id": "519aefe9-4b1d-4006-a0eb-b19bfb09b000",
   "metadata": {},
   "outputs": [],
   "source": [
    "df_tidy.rename(columns={'Expected Deaths': 'Target'}, inplace=True)"
   ]
  },
  {
   "cell_type": "markdown",
   "id": "422add54-aa51-4e8e-813d-095c437af2cd",
   "metadata": {},
   "source": [
    "## create a CSV file again from the procesed data"
   ]
  },
  {
   "cell_type": "code",
   "execution_count": 10,
   "id": "6a221da6-73e6-4586-86cb-8bb8e5bf7b21",
   "metadata": {},
   "outputs": [],
   "source": [
    "df_tidy.to_csv('procesed_dataset_4.csv', index=False)"
   ]
  },
  {
   "cell_type": "code",
   "execution_count": null,
   "id": "75635d51-d6ea-4c83-9dce-e862bccfe35e",
   "metadata": {},
   "outputs": [],
   "source": []
  }
 ],
 "metadata": {
  "kernelspec": {
   "display_name": "Python 3 (ipykernel)",
   "language": "python",
   "name": "python3"
  },
  "language_info": {
   "codemirror_mode": {
    "name": "ipython",
    "version": 3
   },
   "file_extension": ".py",
   "mimetype": "text/x-python",
   "name": "python",
   "nbconvert_exporter": "python",
   "pygments_lexer": "ipython3",
   "version": "3.8.17"
  },
  "widgets": {
   "application/vnd.jupyter.widget-state+json": {
    "state": {},
    "version_major": 2,
    "version_minor": 0
   }
  }
 },
 "nbformat": 4,
 "nbformat_minor": 5
}
